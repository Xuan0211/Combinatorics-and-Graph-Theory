{
 "cells": [
  {
   "cell_type": "markdown",
   "source": [
    "# friendlypartcount(n)\n",
    "for $n>0$ we denote by the $FC_k(n)$ the number of partition of n with k parts with every part greater than and equal to 2\n",
    "## base case\n",
    "#### 1. if $k>\\frac{n}{2}$,$FC_k(n)=0$\n",
    "#### 2. if $k=\\frac{n}{2}$,$FC_k(n)=1$\n",
    "\n",
    "![](https://secure2.wostatic.cn/static/gA1wW6cpAqrkDGCyYct262/image.png?auth_key=1683534708-6zEg61uRDmNvq9yJvHnZvX-0-ba68aec0ae7215939ea56862b6c5e15b)\n",
    "\n",
    "#### 3. if $FC_1(n)=1$\n",
    "\n",
    "![](https://secure2.wostatic.cn/static/ibe7cZyj7o6FJZJY2z9HMQ/image.png?auth_key=1683534783-bpt9s2tn5a59uQ9JhRbjAj-0-ed2d360280ed2e4f7775ee6ecbc5295c)\n",
    "\n",
    "\n",
    "## recurrence relation\n",
    "$$ FC_k(n)=FC_{k-1}(n-2)+FC_k(n-k) $$\n",
    "\n",
    "![](https://secure2.wostatic.cn/static/o96tuFP5sGSrzyThpMd8Mb/image.png?auth_key=1683534800-tqMPKqbATxKaHzsRzCcqp-0-e98683319433f51d81c9784db24bdbe0)\n",
    "\n",
    "## Memoization\n",
    "@functools.lru_cache(user_function)\n",
    "@functools.lru_cache(maxsize=128, typed=False)\n",
    "Decorator to wrap a function with a memoizing callable that saves up to the maxsize most recent calls. It can save time when an expensive or I/O bound function is periodically called with the same arguments.\n",
    "If maxsize is set to None, the LRU feature is disabled and the cache can grow without bound."
   ],
   "metadata": {
    "collapsed": false,
    "pycharm": {
     "name": "#%% md\n"
    }
   }
  },
  {
   "cell_type": "code",
   "execution_count": 140,
   "outputs": [],
   "source": [
    "# Insert your code here\n",
    "# You can edit and change this part any way you like,\n",
    "# including adding new functions and classes\n",
    "\n",
    "from functools import lru_cache\n",
    "# least recently used\n",
    "@lru_cache(None)\n",
    "\n",
    "def FC(n,k):\n",
    "    # base case\n",
    "    if n <= 1 :\n",
    "        return  0\n",
    "    if k>n/2:\n",
    "        return 0\n",
    "    if k == n/2:\n",
    "        return 1\n",
    "    if k == 1:\n",
    "        return 1\n",
    "    # recurrence relation\n",
    "    return FC(n-2,k-1) + FC (n-k,k)"
   ],
   "metadata": {
    "collapsed": false,
    "pycharm": {
     "name": "#%%\n"
    }
   }
  },
  {
   "cell_type": "code",
   "execution_count": 141,
   "metadata": {
    "collapsed": true,
    "pycharm": {
     "name": "#%%\n"
    }
   },
   "outputs": [],
   "source": [
    "def friendlypartcount(n):\n",
    "    ans = 0\n",
    "    for k in range(1,n+1) :\n",
    "        ans += FC(n,k)\n",
    "    return ans"
   ]
  },
  {
   "cell_type": "markdown",
   "source": [
    "# friendlypartlist(n)\n",
    "\n",
    "## Mistake\n",
    "\n",
    "I just try to use `ans.append(now_ans)` to append list into the list of lists\n",
    "that's awful, I just add the same list into the list times\n",
    "\n",
    "I just reference this to fix the bug\n",
    "https://www.cnblogs.com/ifantastic/p/3811145.html"
   ],
   "metadata": {
    "collapsed": false,
    "pycharm": {
     "name": "#%% md\n"
    }
   }
  },
  {
   "cell_type": "code",
   "execution_count": 142,
   "outputs": [],
   "source": [
    "def friendlypartlist(n):\n",
    "    ans = []\n",
    "    now_ans = []\n",
    "\n",
    "    def partition(k,now_k,max_num,now_sum):\n",
    "\n",
    "        # there is an illegal now_ans\n",
    "        if k == now_k and now_sum == 0:\n",
    "            ans.append(now_ans[:])\n",
    "            return\n",
    "\n",
    "        # continue partition until k(the total parts we need) == now_k(number parts we have now)\n",
    "        for i in range(max_num,1,-1):\n",
    "            if now_sum >= i:\n",
    "                now_ans.append(i)\n",
    "                partition(k,now_k+1,i,now_sum-i)\n",
    "                now_ans.pop()\n",
    "        return\n",
    "\n",
    "    for kk in range (1,n+1):\n",
    "            partition(kk,0,n,n)\n",
    "\n",
    "    return ans"
   ],
   "metadata": {
    "collapsed": false,
    "pycharm": {
     "name": "#%%\n"
    }
   }
  },
  {
   "cell_type": "markdown",
   "source": [
    "## Testing code, please do not change code under here.\n",
    "## Except to comment out lines which your code cannot correctly execute"
   ],
   "metadata": {
    "collapsed": false,
    "pycharm": {
     "name": "#%% md\n"
    }
   }
  },
  {
   "cell_type": "code",
   "execution_count": 143,
   "outputs": [
    {
     "name": "stdout",
     "output_type": "stream",
     "text": [
      "The number of friendly partitions of 5 is: 2\n",
      "The number of friendly partitions of 12 is: 21\n",
      "The number of friendly partitions of 50 is: 30701\n",
      "The number of friendly partitions of 500 is: 123972517135036533402\n",
      "A full list of the friendly partitions of 12 is:\n",
      "[[12], [10, 2], [9, 3], [8, 4], [7, 5], [6, 6], [8, 2, 2], [7, 3, 2], [6, 4, 2], [6, 3, 3], [5, 5, 2], [5, 4, 3], [4, 4, 4], [6, 2, 2, 2], [5, 3, 2, 2], [4, 4, 2, 2], [4, 3, 3, 2], [3, 3, 3, 3], [4, 2, 2, 2, 2], [3, 3, 2, 2, 2], [2, 2, 2, 2, 2, 2]]\n"
     ]
    }
   ],
   "source": [
    "print(\"The number of friendly partitions of 5 is:\", friendlypartcount(5))\n",
    "print(\"The number of friendly partitions of 12 is:\", friendlypartcount(12))\n",
    "print(\"The number of friendly partitions of 50 is:\", friendlypartcount(50))\n",
    "print(\"The number of friendly partitions of 500 is:\", friendlypartcount(500))\n",
    "\n",
    "print(\"A full list of the friendly partitions of 12 is:\")\n",
    "\n",
    "val = friendlypartlist(12)\n",
    "\n",
    "# some simple checks\n",
    "if len(val) != friendlypartcount(12):\n",
    "    print(\"Oh no! friendlypartcount(12) is \", friendlypartcount(12))\n",
    "    print(\"But, the length of friendlypartlist(12) is \", len(val))\n",
    "\n",
    "for l in val:\n",
    "    if not sorted(l):\n",
    "        print(\"Oh no! \", l, \" was not sorted\")\n",
    "    if not sum(l)==12:\n",
    "        print(\"Oh no!\", l, \" does not add up to 12\")\n",
    "\n",
    "print(val)"
   ],
   "metadata": {
    "collapsed": false,
    "pycharm": {
     "name": "#%%\n"
    }
   }
  }
 ],
 "metadata": {
  "kernelspec": {
   "display_name": "Python 3",
   "language": "python",
   "name": "python3"
  },
  "language_info": {
   "codemirror_mode": {
    "name": "ipython",
    "version": 2
   },
   "file_extension": ".py",
   "mimetype": "text/x-python",
   "name": "python",
   "nbconvert_exporter": "python",
   "pygments_lexer": "ipython2",
   "version": "2.7.6"
  }
 },
 "nbformat": 4,
 "nbformat_minor": 0
}