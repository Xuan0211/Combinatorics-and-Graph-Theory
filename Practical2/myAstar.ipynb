{
 "cells": [
  {
   "cell_type": "code",
   "execution_count": 495,
   "outputs": [],
   "source": [
    "from typing import TypeVar, Tuple,  List, Iterator, Optional\n",
    "import json\n",
    "import string\n",
    "import math"
   ],
   "metadata": {
    "collapsed": false,
    "pycharm": {
     "name": "#%%\n"
    }
   }
  },
  {
   "cell_type": "markdown",
   "source": [
    "## PriorityQueue\n",
    "PriorityQueue references heapq and returns the location of the grid with the lowest priority each time"
   ],
   "metadata": {
    "collapsed": false,
    "pycharm": {
     "name": "#%% md\n"
    }
   }
  },
  {
   "cell_type": "code",
   "execution_count": 496,
   "outputs": [],
   "source": [
    "import heapq\n",
    "T = TypeVar('T')\n",
    "class PriorityQueue:\n",
    "    def __init__(self):\n",
    "        self.elements: list[tuple[float, T]] = []\n",
    "\n",
    "    def empty(self) -> bool:\n",
    "        return  not self.elements\n",
    "\n",
    "    def put(self, item: T, priority: float):\n",
    "        heapq.heappush(self.elements, (priority, item))\n",
    "\n",
    "    def get(self) -> T:\n",
    "        return heapq.heappop(self.elements)[1]"
   ],
   "metadata": {
    "collapsed": false,
    "pycharm": {
     "name": "#%%\n"
    }
   }
  },
  {
   "cell_type": "markdown",
   "source": [
    "## Graph"
   ],
   "metadata": {
    "collapsed": false,
    "pycharm": {
     "name": "#%% md\n"
    }
   }
  },
  {
   "cell_type": "code",
   "execution_count": 497,
   "outputs": [],
   "source": [
    "GridLocation = Tuple[int, int]\n",
    "class Graph:\n",
    "    def __init__(self, graph_data: List[ List[int] ], heuristic_type: int):\n",
    "        # Remember the graph_data and heuristic\n",
    "        self.graph_data = graph_data\n",
    "        self.heuristic_type = heuristic_type\n",
    "        self.width = len(graph_data[0])\n",
    "        self.height = len(graph_data)\n",
    "\n",
    "        self.maxheight = self.graph_data[0][0]\n",
    "        self.minheight = self.graph_data[0][0]\n",
    "        for i in range(self.height):\n",
    "            for j in range(self.width):\n",
    "                self.maxheight = max(self.maxheight, self.graph_data[i][j])\n",
    "                self.minheight = min(self.minheight, self.graph_data[i][j])\n",
    "\n",
    "\n",
    "    def in_bounds(self, id: GridLocation) -> bool:\n",
    "        (x, y) = id\n",
    "        return 0 <= x < self.width and 0 <= y < self.height\n",
    "\n",
    "\n",
    "    def neighbours(self, id: GridLocation) -> Iterator[GridLocation]:\n",
    "        (x, y) = id\n",
    "        neighbors = [(x + 1, y), (x, y + 1), (x - 1, y), (x, y - 1)]\n",
    "        return filter(self.in_bounds, neighbors)\n",
    "\n",
    "    def edge_length(self, from_id: GridLocation, to_id: GridLocation) -> float:\n",
    "        (x1, y1) = from_id\n",
    "        (x2, y2) = to_id\n",
    "        return 1 + (self.graph_data[x1][y1] - self.graph_data[x2][y2])*(self.graph_data[x1][y1] - self.graph_data[x2][y2])\n",
    "\n",
    "\n",
    "    def heuristic(self, from_id: GridLocation, to_id: GridLocation) -> float:\n",
    "        (x1, y1) = from_id\n",
    "        (x2, y2) = to_id\n",
    "\n",
    "        match self.heuristic_type:\n",
    "            case \"0\":\n",
    "                # Actually, A* turns into Dijkstra’s Algorithm\n",
    "                return 0\n",
    "            case \"1\":\n",
    "                # “as the crow flies\"\n",
    "                return math.sqrt( abs(x1 - x2) * abs(x1 - x2) + abs(y1 - y2) * abs(y1 - y2))\n",
    "            case \"2\":\n",
    "                # Manhattan distance on a square grid\n",
    "                return abs(x1 - x2) + abs(y1 - y2)\n",
    "            case \"3\":\n",
    "                # Actually, A* turns into Greedy Best-First-Search\n",
    "                return 1000*(abs(x1 - x2) + abs(y1 - y2))\n",
    "            case \"4\":\n",
    "                mincost: float = abs(x1 - x2) + abs(y1 - y2);\n",
    "                maxcost: float = (abs(x1 - x2) + abs(y1 - y2)) * (1 + (self.maxheight - self.minheight) * (self.maxheight - self.minheight));\n",
    "                return (100 * 1.0 / 1000)*(maxcost - mincost) + mincost\n",
    "            case _:\n",
    "                print(\"other case\")"
   ],
   "metadata": {
    "collapsed": false,
    "pycharm": {
     "name": "#%%\n"
    }
   }
  },
  {
   "cell_type": "markdown",
   "source": [
    "## reconstruct_path"
   ],
   "metadata": {
    "collapsed": false,
    "pycharm": {
     "name": "#%% md\n"
    }
   }
  },
  {
   "cell_type": "code",
   "execution_count": 498,
   "outputs": [],
   "source": [
    "def reconstruct_path(came_from: dict[GridLocation, Optional[GridLocation]], start_node: GridLocation, end_node: GridLocation) -> List[GridLocation]:\n",
    "    path: List[GridLocation] =[]\n",
    "\n",
    "    if end_node not in came_from:\n",
    "        print(\"there is no path exits !\")\n",
    "        return []\n",
    "\n",
    "    current: GridLocation = end_node\n",
    "\n",
    "    while current != start_node:\n",
    "        path.append(current)\n",
    "        current = came_from[current]\n",
    "\n",
    "    path.append(start_node)\n",
    "    path.reverse()\n",
    "\n",
    "    return path\n",
    "\n"
   ],
   "metadata": {
    "collapsed": false,
    "pycharm": {
     "name": "#%%\n"
    }
   }
  },
  {
   "cell_type": "markdown",
   "source": [
    "## find_shortest_path\n",
    "using $A^* search$"
   ],
   "metadata": {
    "collapsed": false,
    "pycharm": {
     "name": "#%% md\n"
    }
   }
  },
  {
   "cell_type": "code",
   "execution_count": 499,
   "outputs": [],
   "source": [
    "def find_shortest_path(graph: Graph, start_node: GridLocation, end_node: GridLocation):\n",
    "    frontier = PriorityQueue()\n",
    "    frontier.put(start_node, 0)\n",
    "    # Since dict[star_tnode] = None, we have to add \"Optional\"\n",
    "    came_from: dict[GridLocation, Optional[GridLocation]] = {}\n",
    "    cost_so_far: dict[GridLocation, float] = {}\n",
    "    came_from[start_node] = None\n",
    "    cost_so_far[start_node] = 0\n",
    "\n",
    "    while not frontier.empty():\n",
    "        current: GridLocation = frontier.get()\n",
    "        if current == end_node:\n",
    "            break\n",
    "        for next in graph.neighbours(current):\n",
    "            new_cost: float = cost_so_far[current] + graph.edge_length(current,next)\n",
    "            if next not in cost_so_far or new_cost < cost_so_far[next]:\n",
    "                cost_so_far[next] = new_cost\n",
    "                priority: float = new_cost + graph.heuristic(next, end_node)\n",
    "                frontier.put(next, priority)\n",
    "                came_from[next] = current\n",
    "\n",
    "    path = reconstruct_path(came_from, start_node, end_node)\n",
    "\n",
    "    return {\n",
    "                'path': path,\n",
    "                'vertex': len(path),\n",
    "                'explored': len(came_from),\n",
    "                \"distance\": cost_so_far[end_node]\n",
    "           }"
   ],
   "metadata": {
    "collapsed": false,
    "pycharm": {
     "name": "#%%\n"
    }
   }
  },
  {
   "cell_type": "markdown",
   "source": [
    "## print_path"
   ],
   "metadata": {
    "collapsed": false,
    "pycharm": {
     "name": "#%% md\n"
    }
   }
  },
  {
   "cell_type": "code",
   "execution_count": 500,
   "outputs": [],
   "source": [
    "# Function to print the path.\n",
    "# Uses letters a-z for height, A-Z for height on the path.\n",
    "def print_path(data, path):\n",
    "    for i in range(len(data)):\n",
    "        for j in range(len(data[i])):\n",
    "            if (i,j) in path:\n",
    "                print(string.ascii_uppercase[data[i][j]],end=\"\")\n",
    "            else:\n",
    "                print(string.ascii_lowercase[data[i][j]],end=\"\")\n",
    "        print(\"\")"
   ],
   "metadata": {
    "collapsed": false,
    "pycharm": {
     "name": "#%%\n"
    }
   }
  },
  {
   "cell_type": "markdown",
   "source": [],
   "metadata": {
    "collapsed": false,
    "pycharm": {
     "name": "#%% md\n"
    }
   }
  },
  {
   "cell_type": "code",
   "execution_count": 501,
   "outputs": [
    {
     "name": "stdout",
     "output_type": "stream",
     "text": [
      "\n",
      "----------------------\n",
      "Search explored 77 nodes\n",
      "The path pass 31 vertex\n",
      "The shortest path is length: 704\n",
      "The path is: [(0, 0), (1, 0), (2, 0), (3, 0), (3, 1), (3, 2), (3, 3), (4, 3), (5, 3), (5, 4), (5, 5), (6, 5), (6, 6), (6, 7), (5, 7), (5, 8), (5, 9), (5, 10), (6, 10), (7, 10), (7, 11), (7, 12), (8, 12), (8, 13), (9, 13), (10, 13), (11, 13), (12, 13), (12, 14), (13, 14), (14, 14)]\n",
      "Bhstkgicfjimssr\n",
      "Enmjfkrnaamfmoj\n",
      "Krqibbecbfrriqg\n",
      "HEFGlphtqlsrsmj\n",
      "trrEhnbnldombml\n",
      "edpCBEtJPNHrenr\n",
      "tlhdnEEBsbLsiar\n",
      "moiiktqqbkNHBcr\n",
      "piilcqjkfabqENa\n",
      "pidgiibheatooGf\n",
      "tooepeosgmglaLn\n",
      "ctsrntmtnlgaiNc\n",
      "jmsifjbbnseobHD\n",
      "ndhkekrnlljttbK\n",
      "lpblqaghcqccmsB\n"
     ]
    }
   ],
   "source": [
    "# Read problem file\n",
    "filename = input(\"Enter problem filename:\")\n",
    "with open(filename) as f:\n",
    "    data = json.load(f)\n",
    "\n",
    "heuristic_type = input(\"Enter heuristic type: \")\n",
    "\n",
    "# Go from top-left to bottom-right\n",
    "startnode = (0,0)\n",
    "endnode = (len(data)-1, len(data[0])-1)\n",
    "graph = Graph(data, heuristic_type)\n",
    "\n",
    "output = find_shortest_path(graph, startnode, endnode)\n",
    "\n",
    "print(\"\")\n",
    "print(\"----------------------\")\n",
    "print(f\"Search explored {output['explored']} nodes\")\n",
    "print(f\"The path pass {output['vertex']} vertex\")\n",
    "print(f\"The shortest path is length: {output['distance']}\")\n",
    "print(f\"The path is: {output['path']}\")\n",
    "\n",
    "\n",
    "print_path(data, output['path'])\n"
   ],
   "metadata": {
    "collapsed": false,
    "pycharm": {
     "name": "#%%\n"
    }
   }
  }
 ],
 "metadata": {
  "kernelspec": {
   "display_name": "Python 3",
   "language": "python",
   "name": "python3"
  },
  "language_info": {
   "codemirror_mode": {
    "name": "ipython",
    "version": 2
   },
   "file_extension": ".py",
   "mimetype": "text/x-python",
   "name": "python",
   "nbconvert_exporter": "python",
   "pygments_lexer": "ipython2",
   "version": "2.7.6"
  }
 },
 "nbformat": 4,
 "nbformat_minor": 0
}