{
 "cells": [
  {
   "cell_type": "code",
   "execution_count": 192,
   "outputs": [],
   "source": [
    "from typing import TypeVar, Tuple,  List, Iterator, Optional\n",
    "import json\n",
    "import string\n",
    "import math"
   ],
   "metadata": {
    "collapsed": false,
    "pycharm": {
     "name": "#%%\n"
    }
   }
  },
  {
   "cell_type": "markdown",
   "source": [
    "## PriorityQueue"
   ],
   "metadata": {
    "collapsed": false,
    "pycharm": {
     "name": "#%% md\n"
    }
   }
  },
  {
   "cell_type": "code",
   "execution_count": 193,
   "outputs": [],
   "source": [
    "import heapq\n",
    "T = TypeVar('T')\n",
    "class PriorityQueue:\n",
    "    def __init__(self):\n",
    "        self.elements: list[tuple[float, T]] = []\n",
    "\n",
    "    def empty(self) -> bool:\n",
    "        return  not self.elements\n",
    "\n",
    "    def put(self, item: T, priority: float):\n",
    "        heapq.heappush(self.elements, (priority, item))\n",
    "\n",
    "    def get(self) -> T:\n",
    "        return heapq.heappop(self.elements)[1]"
   ],
   "metadata": {
    "collapsed": false,
    "pycharm": {
     "name": "#%%\n"
    }
   }
  },
  {
   "cell_type": "markdown",
   "source": [
    "## Graph"
   ],
   "metadata": {
    "collapsed": false,
    "pycharm": {
     "name": "#%% md\n"
    }
   }
  },
  {
   "cell_type": "code",
   "execution_count": 194,
   "outputs": [],
   "source": [
    "GridLocation = Tuple[int, int]\n",
    "class Graph:\n",
    "    def __init__(self, graph_data: List[ List[int] ], heuristic_type: int):\n",
    "        # Remember the graph_data and heuristic\n",
    "        self.graph_data = graph_data\n",
    "        self.heuristic_type = heuristic_type\n",
    "        self.width = len(graph_data[0])\n",
    "        self.height = len(graph_data)\n",
    "\n",
    "        self.maxheight = self.graph_data[0][0]\n",
    "        self.minheight = self.graph_data[0][0]\n",
    "        for i in range(self.height):\n",
    "            for j in range(self.width):\n",
    "                self.maxheight = max(self.maxheight, self.graph_data[i][j])\n",
    "                self.minheight = min(self.minheight, self.graph_data[i][j])\n",
    "\n",
    "\n",
    "    def in_bounds(self, id: GridLocation) -> bool:\n",
    "        (x, y) = id\n",
    "        return 0 <= x < self.width and 0 <= y < self.height\n",
    "\n",
    "\n",
    "    def neighbours(self, id: GridLocation) -> Iterator[GridLocation]:\n",
    "        (x, y) = id\n",
    "        neighbors = [(x + 1, y), (x, y + 1), (x - 1, y), (x, y - 1)]\n",
    "        return filter(self.in_bounds, neighbors)\n",
    "\n",
    "    def edge_length(self, from_id: GridLocation, to_id: GridLocation) -> float:\n",
    "        (x1, y1) = from_id\n",
    "        (x2, y2) = to_id\n",
    "        return 1 + (self.graph_data[x1][y1] - self.graph_data[x2][y2])*(self.graph_data[x1][y1] - self.graph_data[x2][y2])\n",
    "\n",
    "\n",
    "    def heuristic(self, from_id: GridLocation, to_id: GridLocation) -> float:\n",
    "        (x1, y1) = from_id\n",
    "        (x2, y2) = to_id\n",
    "        mincost: float = abs(x1 - x2) + abs(y1 - y2);\n",
    "        maxcost: float = (abs(x1 - x2) + abs(y1 - y2)) * (1 + (self.maxheight - self.minheight) * (self.maxheight - self.minheight));\n",
    "        match self.heuristic_type:\n",
    "            case 0:\n",
    "                # “as the crow flies\"\n",
    "                return math.sqrt( abs(x1 - x2) * abs(x1 - x2) + abs(y1 - y2) * abs(y1 - y2))\n",
    "            case _:\n",
    "                return (self.heuristic_type * 1.0 / 1000)*(maxcost - mincost) + mincost"
   ],
   "metadata": {
    "collapsed": false,
    "pycharm": {
     "name": "#%%\n"
    }
   }
  },
  {
   "cell_type": "markdown",
   "source": [
    "## reconstruct_path"
   ],
   "metadata": {
    "collapsed": false,
    "pycharm": {
     "name": "#%% md\n"
    }
   }
  },
  {
   "cell_type": "code",
   "execution_count": 195,
   "outputs": [],
   "source": [
    "def reconstruct_path(came_from: dict[GridLocation, Optional[GridLocation]], start_node: GridLocation, end_node: GridLocation) -> List[GridLocation]:\n",
    "    path: List[GridLocation] =[]\n",
    "\n",
    "    if end_node not in came_from:\n",
    "        print(\"there is no path exits !\")\n",
    "        return []\n",
    "\n",
    "    current: GridLocation = end_node\n",
    "\n",
    "    while current != start_node:\n",
    "        path.append(current)\n",
    "        current = came_from[current]\n",
    "\n",
    "    path.append(start_node)\n",
    "    path.reverse()\n",
    "\n",
    "    return path\n",
    "\n"
   ],
   "metadata": {
    "collapsed": false,
    "pycharm": {
     "name": "#%%\n"
    }
   }
  },
  {
   "cell_type": "markdown",
   "source": [
    "## find_shortest_path\n",
    "using $A^* search$"
   ],
   "metadata": {
    "collapsed": false,
    "pycharm": {
     "name": "#%% md\n"
    }
   }
  },
  {
   "cell_type": "code",
   "execution_count": 196,
   "outputs": [],
   "source": [
    "def find_shortest_path(graph: Graph, start_node: GridLocation, end_node: GridLocation):\n",
    "    frontier = PriorityQueue()\n",
    "    frontier.put(start_node, 0)\n",
    "    # Since dict[star_tnode] = None, we have to add \"Optional\"\n",
    "    came_from: dict[GridLocation, Optional[GridLocation]] = {}\n",
    "    cost_so_far: dict[GridLocation, float] = {}\n",
    "    came_from[start_node] = None\n",
    "    cost_so_far[start_node] = 0\n",
    "\n",
    "    while not frontier.empty():\n",
    "        current: GridLocation = frontier.get()\n",
    "        if current == end_node:\n",
    "            break\n",
    "        for next in graph.neighbours(current):\n",
    "            new_cost: float = cost_so_far[current] + graph.edge_length(current,next)\n",
    "            if next not in cost_so_far or new_cost < cost_so_far[next]:\n",
    "                cost_so_far[next] = new_cost\n",
    "                priority: float = new_cost + graph.heuristic(next, end_node)\n",
    "                frontier.put(next, priority)\n",
    "                came_from[next] = current\n",
    "\n",
    "    path = reconstruct_path(came_from, start_node, end_node)\n",
    "\n",
    "    return {\n",
    "                'path': path,\n",
    "                'vertex': len(path),\n",
    "                'explored': len(came_from),\n",
    "                \"distance\": cost_so_far[end_node]\n",
    "           }"
   ],
   "metadata": {
    "collapsed": false,
    "pycharm": {
     "name": "#%%\n"
    }
   }
  },
  {
   "cell_type": "markdown",
   "source": [
    "## print_path"
   ],
   "metadata": {
    "collapsed": false,
    "pycharm": {
     "name": "#%% md\n"
    }
   }
  },
  {
   "cell_type": "code",
   "execution_count": 197,
   "outputs": [],
   "source": [
    "# Function to print the path.\n",
    "# Uses letters a-z for height, A-Z for height on the path.\n",
    "def print_path(data, path):\n",
    "    for i in range(len(data)):\n",
    "        for j in range(len(data[i])):\n",
    "            if (i,j) in path:\n",
    "                print(string.ascii_uppercase[data[i][j]],end=\"\")\n",
    "            else:\n",
    "                print(string.ascii_lowercase[data[i][j]],end=\"\")\n",
    "        print(\"\")"
   ],
   "metadata": {
    "collapsed": false,
    "pycharm": {
     "name": "#%%\n"
    }
   }
  },
  {
   "cell_type": "markdown",
   "source": [
    "## plot"
   ],
   "metadata": {
    "collapsed": false,
    "pycharm": {
     "name": "#%% md\n"
    }
   }
  },
  {
   "cell_type": "code",
   "execution_count": 198,
   "outputs": [
    {
     "data": {
      "text/plain": "<Figure size 432x288 with 1 Axes>",
      "image/png": "[encoded data removed]"
     },
     "metadata": {
      "needs_background": "light"
     },
     "output_type": "display_data"
    },
    {
     "data": {
      "text/plain": "<Figure size 432x288 with 1 Axes>",
      "image/png": "[encoded data removed]"
     },
     "metadata": {
      "needs_background": "light"
     },
     "output_type": "display_data"
    }
   ],
   "source": [
    "import matplotlib.pyplot as plt\n",
    "filename = \"mountains15.json\"\n",
    "with open(filename) as f:\n",
    "    data = json.load(f)\n",
    "\n",
    "explored = []\n",
    "length = []\n",
    "\n",
    "for i in range(1000):\n",
    "    heuristic_type = i\n",
    "    startnode = (0,0)\n",
    "    endnode = (len(data)-1, len(data[0])-1)\n",
    "    graph = Graph(data, heuristic_type)\n",
    "    output = find_shortest_path(graph, startnode, endnode)\n",
    "    explored.append(output['explored'])\n",
    "    length.append(output['distance'])\n",
    "\n",
    "fig = plt.figure(num = 1, figsize = (6,4))\n",
    "plt.plot(range(1000),explored)\n",
    "plt.plot(range(1000),length)\n",
    "\n",
    "plt.show()\n",
    "\n",
    "fig_detail = plt.figure(num = 1, figsize = (6,4))\n",
    "plt.plot(range(350),explored[:350])\n",
    "plt.plot(range(350),length[:350])\n",
    "\n",
    "plt.show()\n",
    "\n"
   ],
   "metadata": {
    "collapsed": false,
    "pycharm": {
     "name": "#%%\n"
    }
   }
  }
 ],
 "metadata": {
  "kernelspec": {
   "display_name": "Python 3",
   "language": "python",
   "name": "python3"
  },
  "language_info": {
   "codemirror_mode": {
    "name": "ipython",
    "version": 2
   },
   "file_extension": ".py",
   "mimetype": "text/x-python",
   "name": "python",
   "nbconvert_exporter": "python",
   "pygments_lexer": "ipython2",
   "version": "2.7.6"
  }
 },
 "nbformat": 4,
 "nbformat_minor": 0
}